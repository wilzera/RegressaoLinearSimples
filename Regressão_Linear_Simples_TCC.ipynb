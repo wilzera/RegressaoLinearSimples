{
  "nbformat": 4,
  "nbformat_minor": 0,
  "metadata": {
    "colab": {
      "provenance": [],
      "include_colab_link": true
    },
    "kernelspec": {
      "name": "python3",
      "display_name": "Python 3"
    },
    "language_info": {
      "name": "python"
    }
  },
  "cells": [
    {
      "cell_type": "markdown",
      "metadata": {
        "id": "view-in-github",
        "colab_type": "text"
      },
      "source": [
        "<a href=\"https://colab.research.google.com/github/wilzera/RegressaoLinearSimples/blob/main/Regress%C3%A3o_Linear_Simples_TCC.ipynb\" target=\"_parent\"><img src=\"https://colab.research.google.com/assets/colab-badge.svg\" alt=\"Open In Colab\"/></a>"
      ]
    },
    {
      "cell_type": "code",
      "execution_count": 3,
      "metadata": {
        "id": "EIpMz_SGioLe"
      },
      "outputs": [],
      "source": [
        "# Importando as bibliotecas necessárias\n",
        "import numpy as np\n",
        "import pandas as pd\n",
        "import matplotlib.pyplot as plt\n",
        "from sklearn.linear_model import LinearRegression\n",
        "from sklearn.model_selection import train_test_split\n",
        "from sklearn import metrics"
      ]
    },
    {
      "cell_type": "code",
      "source": [
        "# Criando o conjunto de dados\n",
        "dados = pd.read_csv('Dados_TCC.csv')"
      ],
      "metadata": {
        "id": "CLhDy__5kcwO"
      },
      "execution_count": 22,
      "outputs": []
    },
    {
      "cell_type": "code",
      "source": [
        "#Separando as colunas do conjunto de dados\n",
        "X = dados['Data'].values\n",
        "Y = dados['Volume'].values"
      ],
      "metadata": {
        "id": "0oYIfWLA1AUk"
      },
      "execution_count": 23,
      "outputs": []
    },
    {
      "cell_type": "code",
      "source": [
        "#Convertendo os dados em tipo Lista\n",
        "Eixo_x = dados.iloc[:,0].values\n",
        "Eixo_y = dados.iloc[:,1].values"
      ],
      "metadata": {
        "id": "LFKFq0wvkwV_"
      },
      "execution_count": 24,
      "outputs": []
    },
    {
      "cell_type": "code",
      "source": [
        "#Convertendo os dados do formato Lista para Matriz\n",
        "Eixo_x = Eixo_x.reshape(-1,1)\n",
        "Eixo_y = Eixo_y.reshape(-1,1)"
      ],
      "metadata": {
        "id": "Dff-AeJZDTtD"
      },
      "execution_count": 25,
      "outputs": []
    },
    {
      "cell_type": "code",
      "source": [
        "X = np.array(X)\n",
        "Y = np.array(Y)\n",
        "Funcao_Regressao = LinearRegression().fit([X],[Y])"
      ],
      "metadata": {
        "id": "JJrUIwFDjciR"
      },
      "execution_count": 26,
      "outputs": []
    },
    {
      "cell_type": "code",
      "source": [
        "#Dividindo os dados em dois tipos: treino e teste\n",
        "x_treinamento, x_teste, y_treinamento, y_teste = train_test_split(\n",
        "    Eixo_x,\n",
        "    Eixo_y,\n",
        "    test_size=0.1\n",
        ")"
      ],
      "metadata": {
        "id": "8QULOaJTDlo8"
      },
      "execution_count": 27,
      "outputs": []
    },
    {
      "cell_type": "code",
      "source": [
        "#Criando o modelo de regressão\n",
        "Funcao_Regressao = LinearRegression()"
      ],
      "metadata": {
        "id": "B7T8OwKKdfT0"
      },
      "execution_count": 28,
      "outputs": []
    },
    {
      "cell_type": "code",
      "source": [
        "#Treinando o modelo\n",
        "Funcao_Regressao.fit(x_treinamento, y_treinamento);"
      ],
      "metadata": {
        "id": "xFWhaE4VsAq4"
      },
      "execution_count": 29,
      "outputs": []
    },
    {
      "cell_type": "code",
      "source": [
        "#Plotando a regressão linear\n",
        "plt.figure(figsize=(10,5))\n",
        "plt.scatter(x_treinamento, y_treinamento)\n",
        "plt.plot(x_teste, Funcao_Regressao.predict(x_teste), color='red');"
      ],
      "metadata": {
        "colab": {
          "base_uri": "https://localhost:8080/",
          "height": 320
        },
        "id": "3MfufmG2ehVE",
        "outputId": "a31cf3b7-e50a-4225-d1e2-549fe84e3741"
      },
      "execution_count": 30,
      "outputs": [
        {
          "output_type": "display_data",
          "data": {
            "text/plain": [
              "<Figure size 720x360 with 1 Axes>"
            ],
            "image/png": "[encoded data removed]"
          },
          "metadata": {
            "needs_background": "light"
          }
        }
      ]
    },
    {
      "cell_type": "code",
      "source": [
        "#Avaliando a performance do modelo\n",
        "Funcao_Regressao.score(x_treinamento, y_treinamento)"
      ],
      "metadata": {
        "colab": {
          "base_uri": "https://localhost:8080/"
        },
        "id": "2xalhC0OeJjP",
        "outputId": "0a182a0c-ca3b-42c8-8d38-e0828a12042d"
      },
      "execution_count": 31,
      "outputs": [
        {
          "output_type": "execute_result",
          "data": {
            "text/plain": [
              "0.5140090420865858"
            ]
          },
          "metadata": {},
          "execution_count": 31
        }
      ]
    }
  ]
}